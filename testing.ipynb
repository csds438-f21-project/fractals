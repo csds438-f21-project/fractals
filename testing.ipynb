{
 "cells": [
  {
   "cell_type": "code",
   "execution_count": null,
   "metadata": {},
   "outputs": [],
   "source": [
    "!pip install ray"
   ]
  },
  {
   "cell_type": "code",
   "execution_count": 1,
   "metadata": {},
   "outputs": [],
   "source": [
    "import colorsys\n",
    "import ray\n",
    "import matplotlib.pyplot as plt\n",
    "import numpy as np\n",
    "from ray.util import ActorPool"
   ]
  },
  {
   "cell_type": "code",
   "execution_count": 2,
   "metadata": {},
   "outputs": [],
   "source": [
    "\n",
    "# Animation parameters\n",
    "FPS = 30\n",
    "NUM_SEC = 30\n",
    "ZOOM_RATE = 0.99\n",
    "MAX_ITER = 1000\n",
    "\n",
    "# Image parameters\n",
    "XY_PROP = 3/2\n",
    "Y_DIM = 512\n",
    "X_DIM = int(XY_PROP * Y_DIM)\n",
    "IMG_DIM = (X_DIM, Y_DIM)\n",
    "\n",
    "# Complex plane parameters\n",
    "CENTER = (-0.7845, -0.1272)\n",
    "Y_LENGTH = 2\n",
    "X_LENGTH = XY_PROP * Y_LENGTH\n",
    "\n",
    "def get_windows(scale=1):\n",
    "    x_window = [CENTER[0] - scale * X_LENGTH / 2, \n",
    "                CENTER[0] + scale * X_LENGTH / 2]\n",
    "    y_window = [CENTER[1] - scale * Y_LENGTH / 2, \n",
    "                CENTER[1] + scale * Y_LENGTH / 2]\n",
    "    return x_window, y_window\n",
    "\n",
    "def rgb_conv(i):\n",
    "    color = 255 * np.array(colorsys.hsv_to_rgb(i / 255.0, 1.0, 0.5))\n",
    "    return tuple(color.astype(int))\n",
    "\n",
    "def mandelbrot(x, y):\n",
    "    c, z = complex(x, y), 0\n",
    "    for i in range(1000):\n",
    "        if abs(z) > 2:\n",
    "            return rgb_conv(i)\n",
    "        z = z * z + c\n",
    "    return (0, 0, 0)\n",
    "\n",
    "def get_frame(frame_num):\n",
    "    x_window, y_window = get_windows(scale=ZOOM_RATE ** frame_num)\n",
    "    print(x_window, y_window)\n",
    "\n",
    "    pixels = np.zeros((Y_DIM, X_DIM, 3), int)\n",
    "\n",
    "    x = np.linspace(x_window[0], x_window[1], IMG_DIM[0]).reshape(1, IMG_DIM[0])\n",
    "    y = np.linspace(y_window[0], y_window[1], IMG_DIM[1]).reshape(IMG_DIM[1], 1)\n",
    "\n",
    "    c = x + 1j * y\n",
    "    z = np.zeros(c.shape, dtype=np.complex128)\n",
    "\n",
    "    iterations = np.zeros(z.shape, dtype=np.uint8)\n",
    "    active = np.full(c.shape, True, dtype=bool)\n",
    "\n",
    "    for i in range(MAX_ITER):\n",
    "        z[active] = z[active]**2 + c[active]\n",
    "\n",
    "        diverged = np.greater(np.abs(z), 2.236, out=np.full(c.shape, False), where=active)\n",
    "        iterations[diverged] = i\n",
    "        active[np.abs(z) > 2.236] = False\n",
    "    iterations[active] = MAX_ITER + 1\n",
    "    return frame_num, iterations"
   ]
  },
  {
   "cell_type": "code",
   "execution_count": null,
   "metadata": {},
   "outputs": [],
   "source": [
    "from ray.util.multiprocessing import Pool\n",
    "\n",
    "pool = Pool(4)\n",
    "results = pool.map(get_frame, [1, 2, 3, 4])"
   ]
  },
  {
   "cell_type": "code",
   "execution_count": null,
   "metadata": {},
   "outputs": [],
   "source": [
    "pool = Pool(4)\n",
    "results = pool.map(get_frame, [1, 2, 3, 4])"
   ]
  },
  {
   "cell_type": "code",
   "execution_count": 4,
   "metadata": {},
   "outputs": [],
   "source": [
    "@ray.remote\n",
    "class FractalActor:\n",
    "    MAX_ITER = 1000\n",
    "    \n",
    "    def get_frame(self, frame_num):\n",
    "        x_window, y_window = get_windows(scale=ZOOM_RATE ** frame_num)\n",
    "        print(x_window, y_window)\n",
    "        \n",
    "        pixels = np.zeros((Y_DIM, X_DIM, 3), int)\n",
    "\n",
    "        x = np.linspace(x_window[0], x_window[1], IMG_DIM[0]).reshape(1, IMG_DIM[0])\n",
    "        y = np.linspace(y_window[0], y_window[1], IMG_DIM[1]).reshape(IMG_DIM[1], 1)\n",
    "\n",
    "        c = x + 1j * y\n",
    "        z = np.zeros(c.shape, dtype=np.complex128)\n",
    "        \n",
    "        iterations = np.zeros(z.shape, dtype=np.uint8)\n",
    "        active = np.full(c.shape, True, dtype=bool)\n",
    "\n",
    "        for i in range(self.MAX_ITER):\n",
    "            z[active] = z[active]**2 + c[active]\n",
    "            \n",
    "            diverged = np.greater(np.abs(z), 2.236, out=np.full(c.shape, False), where=active)\n",
    "            iterations[diverged] = i\n",
    "            active[np.abs(z) > 2.236] = False\n",
    "        iterations[active] = self.MAX_ITER + 1\n",
    "        return frame_num, iterations"
   ]
  },
  {
   "cell_type": "code",
   "execution_count": null,
   "metadata": {},
   "outputs": [],
   "source": [
    "# Get just one frame to make sure everything looks good\n",
    "a = FractalActor.remote()\n",
    "frame_num, frame = ray.get(a.get_frame.remote(FPS * NUM_SEC + 100))\n",
    "plt.imshow(frame)"
   ]
  },
  {
   "cell_type": "code",
   "execution_count": null,
   "metadata": {},
   "outputs": [],
   "source": [
    "%%capture\n",
    "\n",
    "# Create a pool of actors, one per CPU core\n",
    "num_processes = int(ray.cluster_resources()['CPU'])\n",
    "actors = [FractalActor.remote() for _ in range(num_processes)]\n",
    "pool = ActorPool(actors)"
   ]
  },
  {
   "cell_type": "code",
   "execution_count": null,
   "metadata": {},
   "outputs": [],
   "source": [
    "num_frames = FPS * NUM_SEC\n",
    "frames = np.zeros((num_frames, Y_DIM, X_DIM), int)\n",
    "\n",
    "# Evaluate all frames\n",
    "for frame_num, frame in pool.map_unordered(\n",
    "    lambda a, v: a.get_frame.remote(v), list(range(num_frames))):\n",
    "    frames[frame_num] = frame"
   ]
  },
  {
   "cell_type": "code",
   "execution_count": null,
   "metadata": {},
   "outputs": [],
   "source": [
    "np.save(f'frames_{FPS}_{NUM_SEC}.npy', frames)"
   ]
  },
  {
   "cell_type": "code",
   "execution_count": null,
   "metadata": {},
   "outputs": [],
   "source": [
    "plt.imshow(frames[0])"
   ]
  },
  {
   "cell_type": "code",
   "execution_count": null,
   "metadata": {},
   "outputs": [],
   "source": [
    "#frames = np.load(f'frames_{FPS}_{NUM_SEC}.npy')\n",
    "\n",
    "from PIL import Image\n",
    "\n",
    "im = plt.imshow(frames[0], interpolation='none')\n",
    "\n",
    "for i, frame in enumerate(frames):\n",
    "    c_frame = 255 * im.cmap(im.norm(frame))\n",
    "    c_frame = np.delete(c_frame, -1, axis=2).astype(np.uint8)\n",
    "    image = Image.fromarray(c_frame)\n",
    "    image.save(f'frames/frame_{i:05}.png')"
   ]
  },
  {
   "cell_type": "code",
   "execution_count": 11,
   "metadata": {},
   "outputs": [
    {
     "ename": "AttributeError",
     "evalue": "module 'os' has no attribute 'mkdirs'",
     "output_type": "error",
     "traceback": [
      "\u001b[0;31m---------------------------------------------------------------------------\u001b[0m",
      "\u001b[0;31mAttributeError\u001b[0m                            Traceback (most recent call last)",
      "\u001b[0;32m<ipython-input-11-3f1693971168>\u001b[0m in \u001b[0;36m<module>\u001b[0;34m\u001b[0m\n\u001b[1;32m      1\u001b[0m \u001b[0;32mimport\u001b[0m \u001b[0mos\u001b[0m\u001b[0;34m\u001b[0m\u001b[0;34m\u001b[0m\u001b[0m\n\u001b[0;32m----> 2\u001b[0;31m \u001b[0mos\u001b[0m\u001b[0;34m.\u001b[0m\u001b[0mmkdirs\u001b[0m\u001b[0;34m(\u001b[0m\u001b[0;34m'test'\u001b[0m\u001b[0;34m)\u001b[0m\u001b[0;34m\u001b[0m\u001b[0;34m\u001b[0m\u001b[0m\n\u001b[0m",
      "\u001b[0;31mAttributeError\u001b[0m: module 'os' has no attribute 'mkdirs'"
     ]
    }
   ],
   "source": [
    "import os\n",
    "os.mkdirs('test')"
   ]
  },
  {
   "cell_type": "code",
   "execution_count": 10,
   "metadata": {},
   "outputs": [
    {
     "data": {
      "image/png": "[encoded data removed]",
      "text/plain": [
       "<Figure size 432x288 with 1 Axes>"
      ]
     },
     "metadata": {
      "needs_background": "light"
     },
     "output_type": "display_data"
    }
   ],
   "source": [
    "from PIL import Image\n",
    "\n",
    "im = plt.imshow(results[0][1], interpolation='none')\n",
    "\n"
   ]
  },
  {
   "cell_type": "code",
   "execution_count": null,
   "metadata": {},
   "outputs": [],
   "source": []
  }
 ],
 "metadata": {
  "kernelspec": {
   "display_name": "Python 3",
   "language": "python",
   "name": "python3"
  },
  "language_info": {
   "codemirror_mode": {
    "name": "ipython",
    "version": 3
   },
   "file_extension": ".py",
   "mimetype": "text/x-python",
   "name": "python",
   "nbconvert_exporter": "python",
   "pygments_lexer": "ipython3",
   "version": "3.7.4"
  }
 },
 "nbformat": 4,
 "nbformat_minor": 2
}
